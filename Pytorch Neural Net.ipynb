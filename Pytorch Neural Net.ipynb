{
 "cells": [
  {
   "cell_type": "code",
   "execution_count": 19,
   "metadata": {
    "collapsed": true
   },
   "outputs": [],
   "source": [
    "import torch\n",
    "from __future__ import print_function\n",
    "import numpy as np"
   ]
  },
  {
   "cell_type": "code",
   "execution_count": 9,
   "metadata": {
    "collapsed": false
   },
   "outputs": [],
   "source": [
    "x = torch.Tensor(5,3) # constructs a 5 x 3 uniitialized matrix"
   ]
  },
  {
   "cell_type": "code",
   "execution_count": 4,
   "metadata": {
    "collapsed": true
   },
   "outputs": [],
   "source": [
    "x = torch.rand(5, 3) # constructs a randomly initialized matrix"
   ]
  },
  {
   "cell_type": "code",
   "execution_count": 10,
   "metadata": {
    "collapsed": false
   },
   "outputs": [
    {
     "data": {
      "text/plain": [
       "torch.Size([5, 3])"
      ]
     },
     "execution_count": 10,
     "metadata": {},
     "output_type": "execute_result"
    }
   ],
   "source": [
    "x.size()\n"
   ]
  },
  {
   "cell_type": "code",
   "execution_count": 11,
   "metadata": {
    "collapsed": false
   },
   "outputs": [
    {
     "data": {
      "text/plain": [
       "\n",
       "1.00000e-32 *\n",
       "  0.0000  0.0000  0.0001\n",
       "  0.0000  0.0002  0.0000\n",
       "  0.0000  0.0000  0.0000\n",
       "  0.0000  0.0000  0.0000\n",
       "  0.0000  0.0000  1.5702\n",
       "[torch.FloatTensor of size 5x3]"
      ]
     },
     "execution_count": 11,
     "metadata": {},
     "output_type": "execute_result"
    }
   ],
   "source": [
    "x\n"
   ]
  },
  {
   "cell_type": "code",
   "execution_count": 14,
   "metadata": {
    "collapsed": false
   },
   "outputs": [
    {
     "data": {
      "text/plain": [
       "5L"
      ]
     },
     "execution_count": 14,
     "metadata": {},
     "output_type": "execute_result"
    }
   ],
   "source": [
    "x.size()[0]"
   ]
  },
  {
   "cell_type": "code",
   "execution_count": 16,
   "metadata": {
    "collapsed": false
   },
   "outputs": [
    {
     "data": {
      "text/plain": [
       "\n",
       " 0.6360  0.9204  1.1902  1.3549  0.8122  1.4139  1.5056  1.0521  1.0215  1.1631\n",
       " 1.3718  0.7432  0.4251  1.0397  0.6850  0.7533  1.0974  0.9830  0.3642  1.0744\n",
       " 1.5766  0.9136  1.4938  0.5823  1.0214  1.1071  0.8526  0.6785  1.0800  0.8150\n",
       " 0.7737  0.9618  1.2445  0.8316  0.4587  1.1055  1.2527  0.4739  1.6014  1.2361\n",
       " 1.0090  1.9458  1.6057  0.9621  0.7201  0.6609  0.9256  1.3444  0.8486  0.8275\n",
       " 0.9124  1.0260  1.7676  1.4748  0.9380  1.7029  0.6472  1.4505  0.6287  1.1013\n",
       " 1.0759  0.3894  0.9141  0.8278  0.7199  1.1988  0.8522  0.5291  0.6262  0.9631\n",
       " 1.0485  0.9762  0.6764  0.7333  1.3934  1.3704  0.9821  1.6518  0.7660  1.5021\n",
       " 0.7484  0.7915  1.2524  1.7432  0.6089  1.7998  1.4991  0.4066  0.6438  0.9946\n",
       " 0.3761  0.4123  0.7383  1.5680  1.2898  1.0606  1.0048  0.9088  0.5305  0.8164\n",
       "[torch.FloatTensor of size 10x10]"
      ]
     },
     "execution_count": 16,
     "metadata": {},
     "output_type": "execute_result"
    }
   ],
   "source": [
    "x, y = torch.rand(10, 10), torch.rand(10, 10)\n",
    "x + y"
   ]
  },
  {
   "cell_type": "code",
   "execution_count": 17,
   "metadata": {
    "collapsed": false
   },
   "outputs": [
    {
     "data": {
      "text/plain": [
       "\n",
       " 0.6360  0.9204  1.1902  1.3549  0.8122  1.4139  1.5056  1.0521  1.0215  1.1631\n",
       " 1.3718  0.7432  0.4251  1.0397  0.6850  0.7533  1.0974  0.9830  0.3642  1.0744\n",
       " 1.5766  0.9136  1.4938  0.5823  1.0214  1.1071  0.8526  0.6785  1.0800  0.8150\n",
       " 0.7737  0.9618  1.2445  0.8316  0.4587  1.1055  1.2527  0.4739  1.6014  1.2361\n",
       " 1.0090  1.9458  1.6057  0.9621  0.7201  0.6609  0.9256  1.3444  0.8486  0.8275\n",
       " 0.9124  1.0260  1.7676  1.4748  0.9380  1.7029  0.6472  1.4505  0.6287  1.1013\n",
       " 1.0759  0.3894  0.9141  0.8278  0.7199  1.1988  0.8522  0.5291  0.6262  0.9631\n",
       " 1.0485  0.9762  0.6764  0.7333  1.3934  1.3704  0.9821  1.6518  0.7660  1.5021\n",
       " 0.7484  0.7915  1.2524  1.7432  0.6089  1.7998  1.4991  0.4066  0.6438  0.9946\n",
       " 0.3761  0.4123  0.7383  1.5680  1.2898  1.0606  1.0048  0.9088  0.5305  0.8164\n",
       "[torch.FloatTensor of size 10x10]"
      ]
     },
     "execution_count": 17,
     "metadata": {},
     "output_type": "execute_result"
    }
   ],
   "source": [
    "res = torch.Tensor(10, 10)\n",
    "torch.add(x, y, out=res)"
   ]
  },
  {
   "cell_type": "code",
   "execution_count": 18,
   "metadata": {
    "collapsed": false
   },
   "outputs": [
    {
     "data": {
      "text/plain": [
       "\n",
       " 0.6360  0.9204  1.1902  1.3549  0.8122  1.4139  1.5056  1.0521  1.0215  1.1631\n",
       " 1.3718  0.7432  0.4251  1.0397  0.6850  0.7533  1.0974  0.9830  0.3642  1.0744\n",
       " 1.5766  0.9136  1.4938  0.5823  1.0214  1.1071  0.8526  0.6785  1.0800  0.8150\n",
       " 0.7737  0.9618  1.2445  0.8316  0.4587  1.1055  1.2527  0.4739  1.6014  1.2361\n",
       " 1.0090  1.9458  1.6057  0.9621  0.7201  0.6609  0.9256  1.3444  0.8486  0.8275\n",
       " 0.9124  1.0260  1.7676  1.4748  0.9380  1.7029  0.6472  1.4505  0.6287  1.1013\n",
       " 1.0759  0.3894  0.9141  0.8278  0.7199  1.1988  0.8522  0.5291  0.6262  0.9631\n",
       " 1.0485  0.9762  0.6764  0.7333  1.3934  1.3704  0.9821  1.6518  0.7660  1.5021\n",
       " 0.7484  0.7915  1.2524  1.7432  0.6089  1.7998  1.4991  0.4066  0.6438  0.9946\n",
       " 0.3761  0.4123  0.7383  1.5680  1.2898  1.0606  1.0048  0.9088  0.5305  0.8164\n",
       "[torch.FloatTensor of size 10x10]"
      ]
     },
     "execution_count": 18,
     "metadata": {},
     "output_type": "execute_result"
    }
   ],
   "source": [
    "res"
   ]
  },
  {
   "cell_type": "code",
   "execution_count": 20,
   "metadata": {
    "collapsed": true
   },
   "outputs": [],
   "source": [
    "a = np.ones(5)\n",
    "b = torch.from_numpy(a)"
   ]
  },
  {
   "cell_type": "code",
   "execution_count": 21,
   "metadata": {
    "collapsed": false
   },
   "outputs": [
    {
     "data": {
      "text/plain": [
       "array([ 1.,  1.,  1.,  1.,  1.])"
      ]
     },
     "execution_count": 21,
     "metadata": {},
     "output_type": "execute_result"
    }
   ],
   "source": [
    "a\n"
   ]
  },
  {
   "cell_type": "code",
   "execution_count": 22,
   "metadata": {
    "collapsed": false
   },
   "outputs": [
    {
     "data": {
      "text/plain": [
       "\n",
       " 1\n",
       " 1\n",
       " 1\n",
       " 1\n",
       " 1\n",
       "[torch.DoubleTensor of size 5]"
      ]
     },
     "execution_count": 22,
     "metadata": {},
     "output_type": "execute_result"
    }
   ],
   "source": [
    "b"
   ]
  },
  {
   "cell_type": "markdown",
   "metadata": {},
   "source": [
    "Autograd is a tensor-based automatic differentiation library. Autograd requires data of types Variable and Function to build up a computation graph. You can use ```.backward()``` to compute derivatives for backprop. "
   ]
  },
  {
   "cell_type": "code",
   "execution_count": 49,
   "metadata": {
    "collapsed": false
   },
   "outputs": [
    {
     "data": {
      "text/plain": [
       "Variable containing:\n",
       " 1  1\n",
       " 1  1\n",
       "[torch.FloatTensor of size 2x2]"
      ]
     },
     "execution_count": 49,
     "metadata": {},
     "output_type": "execute_result"
    }
   ],
   "source": [
    "from torch.autograd import Variable\n",
    "x = Variable(torch.ones(2,2), requires_grad = True)\n",
    "x"
   ]
  },
  {
   "cell_type": "code",
   "execution_count": 50,
   "metadata": {
    "collapsed": true
   },
   "outputs": [],
   "source": [
    "y = x + 2"
   ]
  },
  {
   "cell_type": "code",
   "execution_count": 51,
   "metadata": {
    "collapsed": false
   },
   "outputs": [
    {
     "data": {
      "text/plain": [
       "<torch.autograd._functions.basic_ops.AddConstant at 0x10a99cd98>"
      ]
     },
     "execution_count": 51,
     "metadata": {},
     "output_type": "execute_result"
    }
   ],
   "source": [
    "y.creator"
   ]
  },
  {
   "cell_type": "code",
   "execution_count": 52,
   "metadata": {
    "collapsed": false
   },
   "outputs": [
    {
     "data": {
      "text/plain": [
       "Variable containing:\n",
       " 27  27\n",
       " 27  27\n",
       "[torch.FloatTensor of size 2x2]"
      ]
     },
     "execution_count": 52,
     "metadata": {},
     "output_type": "execute_result"
    }
   ],
   "source": [
    "z = 3*(y**2) # a basic function\n",
    "z"
   ]
  },
  {
   "cell_type": "code",
   "execution_count": 53,
   "metadata": {
    "collapsed": false
   },
   "outputs": [
    {
     "data": {
      "text/plain": [
       "Variable containing:\n",
       " 27\n",
       "[torch.FloatTensor of size 1]"
      ]
     },
     "execution_count": 53,
     "metadata": {},
     "output_type": "execute_result"
    }
   ],
   "source": [
    "z.mean()\n"
   ]
  },
  {
   "cell_type": "code",
   "execution_count": 54,
   "metadata": {
    "collapsed": true
   },
   "outputs": [],
   "source": [
    "out = z.mean()"
   ]
  },
  {
   "cell_type": "code",
   "execution_count": 55,
   "metadata": {
    "collapsed": false
   },
   "outputs": [
    {
     "data": {
      "text/plain": [
       "Variable containing:\n",
       " 27\n",
       "[torch.FloatTensor of size 1]"
      ]
     },
     "execution_count": 55,
     "metadata": {},
     "output_type": "execute_result"
    }
   ],
   "source": [
    "out"
   ]
  },
  {
   "cell_type": "code",
   "execution_count": 56,
   "metadata": {
    "collapsed": false
   },
   "outputs": [],
   "source": [
    "out.backward(retain_variables=True)"
   ]
  },
  {
   "cell_type": "code",
   "execution_count": 57,
   "metadata": {
    "collapsed": false
   },
   "outputs": [
    {
     "data": {
      "text/plain": [
       "Variable containing:\n",
       " 4.5000  4.5000\n",
       " 4.5000  4.5000\n",
       "[torch.FloatTensor of size 2x2]"
      ]
     },
     "execution_count": 57,
     "metadata": {},
     "output_type": "execute_result"
    }
   ],
   "source": [
    "x.grad"
   ]
  },
  {
   "cell_type": "markdown",
   "metadata": {},
   "source": [
    "### Neural Nets in Pytorch\n",
    "- Use ```torch.nn``` package. \n",
    "- NN depends on autograd to differentiate nn loss functions\n",
    "- nn.Module contais layers, and the method forward returns outputs. \n",
    "- Neural Network roadmap:\n",
    "    - Define net that has some learnable weights\n",
    "    - propogate input through the network\n",
    "    - compute the loss function\n",
    "    - compute partial derivatives with respect to the weights and use the backpropagation algorithm to update the weights\n",
    "    - weight update: weight = weighted - (learning rate $*$ gradient + momentum_cost $*$ prev_grad). \n",
    "   "
   ]
  },
  {
   "cell_type": "code",
   "execution_count": null,
   "metadata": {
    "collapsed": true
   },
   "outputs": [],
   "source": [
    "import torch.nn as nn\n",
    "import torch.nn.functional as F\n",
    "\n",
    "class Net(nn.Module):\n",
    "    def __init__(self):\n",
    "        super(Net, self).__init__()\n",
    "        self.conv1 = nn.Conv2d(1, 6, 5) # 1 feature map to 6 feature maps, 5 x 5 convolution\n",
    "        self.conv2 = nn.Conv2d(6, 16, 5)\n",
    "        sellf.fc1 = nn.Linear(16*5*5, 120)\n",
    "        self.fc2 = nn.Linear(120, 84)\n",
    "        self.fc3 = nn.Linear(84, 10)"
   ]
  }
 ],
 "metadata": {
  "kernelspec": {
   "display_name": "Python 2",
   "language": "python",
   "name": "python2"
  },
  "language_info": {
   "codemirror_mode": {
    "name": "ipython",
    "version": 2
   },
   "file_extension": ".py",
   "mimetype": "text/x-python",
   "name": "python",
   "nbconvert_exporter": "python",
   "pygments_lexer": "ipython2",
   "version": "2.7.12"
  }
 },
 "nbformat": 4,
 "nbformat_minor": 2
}
