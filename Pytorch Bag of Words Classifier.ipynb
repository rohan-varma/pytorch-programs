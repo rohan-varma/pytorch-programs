{
 "cells": [
  {
   "cell_type": "code",
   "execution_count": 1,
   "metadata": {
    "collapsed": true
   },
   "outputs": [],
   "source": [
    "import torch \n",
    "import numpy as np\n",
    "import torch.nn as nn\n",
    "import torch.nn.functional as F\n",
    "from torch.autograd import Variable"
   ]
  },
  {
   "cell_type": "code",
   "execution_count": 2,
   "metadata": {
    "collapsed": true
   },
   "outputs": [],
   "source": [
    "torch.manual_seed(1)\n",
    "lin = nn.Linear(5, 3)\n",
    "data = Variable(torch.randn(10, 5)) # create a 10 * 5 matrix of random vars"
   ]
  },
  {
   "cell_type": "code",
   "execution_count": 3,
   "metadata": {
    "collapsed": false
   },
   "outputs": [
    {
     "data": {
      "text/plain": [
       "Variable containing:\n",
       " 0.1755 -0.3268 -0.5069\n",
       "-0.6602  0.2260  0.1089\n",
       "-0.4935  0.5282  0.1833\n",
       "-0.0047 -0.0912 -0.3908\n",
       "-1.0152 -0.6522 -0.5606\n",
       "-1.2472  0.0609  0.2764\n",
       " 0.3908  0.0782 -0.1344\n",
       "-0.4794  0.5238  0.3645\n",
       "-0.5699 -0.1749 -0.2400\n",
       "-0.8788 -0.0109  0.4711\n",
       "[torch.FloatTensor of size 10x3]"
      ]
     },
     "execution_count": 3,
     "metadata": {},
     "output_type": "execute_result"
    }
   ],
   "source": [
    "lin(data) # an affine map"
   ]
  },
  {
   "cell_type": "code",
   "execution_count": 4,
   "metadata": {
    "collapsed": false
   },
   "outputs": [
    {
     "name": "stdout",
     "output_type": "stream",
     "text": [
      "Variable containing:\n",
      " 0.1755  0.0000  0.0000\n",
      " 0.0000  0.2260  0.1089\n",
      " 0.0000  0.5282  0.1833\n",
      " 0.0000  0.0000  0.0000\n",
      " 0.0000  0.0000  0.0000\n",
      " 0.0000  0.0609  0.2764\n",
      " 0.3908  0.0782  0.0000\n",
      " 0.0000  0.5238  0.3645\n",
      " 0.0000  0.0000  0.0000\n",
      " 0.0000  0.0000  0.4711\n",
      "[torch.FloatTensor of size 10x3]\n",
      "\n"
     ]
    }
   ],
   "source": [
    "print(F.relu(lin(data)))"
   ]
  },
  {
   "cell_type": "code",
   "execution_count": 5,
   "metadata": {
    "collapsed": false
   },
   "outputs": [
    {
     "name": "stdout",
     "output_type": "stream",
     "text": [
      "26\n"
     ]
    }
   ],
   "source": [
    "data = [(\"me gusta comer en la cafeteria\".split(), \"SPANISH\"),\n",
    "        (\"Give it to me\".split(), \"ENGLISH\"),\n",
    "        (\"No creo que sea una buena idea\".split(), \"SPANISH\"),\n",
    "        (\"No it is not a good idea to get lost at sea\".split(), \"ENGLISH\")]\n",
    "\n",
    "test_data = [(\"Yo creo que si\".split(), \"SPANISH\"),\n",
    "             (\"it is lost on me\".split(), \"ENGLISH\")]\n",
    "\n",
    "# word_to_ix maps each word in the vocab to a unique integer, which will be its\n",
    "# index into the Bag of words vector\n",
    "word_to_ix = {}\n",
    "for sent, _ in data + test_data:\n",
    "    for word in sent:\n",
    "        if word not in word_to_ix:\n",
    "            word_to_ix[word] = len(word_to_ix)\n",
    "\n",
    "VOCAB_SIZE = len(word_to_ix)\n",
    "NUM_LABELS = 2\n",
    "print(VOCAB_SIZE)"
   ]
  },
  {
   "cell_type": "code",
   "execution_count": 11,
   "metadata": {
    "collapsed": false
   },
   "outputs": [],
   "source": [
    "class BOWClassifier(nn.Module):\n",
    "    def __init__(self, num_labels, vocab_size):\n",
    "        super(BOWClassifier, self).__init__()\n",
    "        self.lin = nn.Linear(vocab_size, num_labels)\n",
    "    def forward(self, x):\n",
    "        return F.softmax(self.lin(x))\n",
    "\n",
    "def make_bow_vector(sentence, word_to_ix):\n",
    "    # create a vector of zeros of vocab size = len(word_to_idx)\n",
    "    vec = torch.zeros(len(word_to_ix))\n",
    "    for word in sentence:\n",
    "        if word not in word_to_ix:\n",
    "            raise ValueError('houston we have a problem')\n",
    "        else:\n",
    "            vec[word_to_ix[word]]+=1\n",
    "    return vec.view(1, -1)\n",
    "\n",
    "def make_target(label, label_to_ix):\n",
    "    return torch.LongTensor([label_to_ix[label]])\n",
    "bow = BOWClassifier(NUM_LABELS, VOCAB_SIZE)\n",
    "\n",
    "    "
   ]
  },
  {
   "cell_type": "code",
   "execution_count": 12,
   "metadata": {
    "collapsed": false
   },
   "outputs": [
    {
     "name": "stdout",
     "output_type": "stream",
     "text": [
      "Parameter containing:\n",
      "\n",
      "Columns 0 to 9 \n",
      "-0.0449  0.1427  0.1553  0.1855 -0.0398 -0.1524  0.1931 -0.0418 -0.0807  0.0478\n",
      " 0.0088  0.0875  0.0235 -0.0982  0.1131  0.1206 -0.0114 -0.0241  0.1782  0.1714\n",
      "\n",
      "Columns 10 to 19 \n",
      "-0.1371  0.1289  0.1229 -0.1556 -0.1611 -0.0172  0.0824 -0.0057 -0.0994  0.0045\n",
      "-0.1112  0.1919  0.0485 -0.1303  0.1074 -0.1464  0.1812 -0.1261  0.0555  0.0597\n",
      "\n",
      "Columns 20 to 25 \n",
      "-0.1843 -0.1386 -0.1306  0.1615  0.1729 -0.0666\n",
      " 0.0466  0.1627 -0.0815 -0.0828 -0.1699 -0.0080\n",
      "[torch.FloatTensor of size 2x26]\n",
      "\n",
      "Parameter containing:\n",
      "1.00000e-02 *\n",
      " -9.2904\n",
      "  0.7858\n",
      "[torch.FloatTensor of size 2]\n",
      "\n"
     ]
    }
   ],
   "source": [
    "for param in bow.parameters():\n",
    "    print(param)\n",
    "    "
   ]
  },
  {
   "cell_type": "code",
   "execution_count": 13,
   "metadata": {
    "collapsed": false
   },
   "outputs": [
    {
     "name": "stdout",
     "output_type": "stream",
     "text": [
      "Variable containing:\n",
      " 0.4726  0.5274\n",
      "[torch.FloatTensor of size 1x2]\n",
      "\n"
     ]
    },
    {
     "name": "stderr",
     "output_type": "stream",
     "text": [
      "/Library/Frameworks/Python.framework/Versions/3.5/lib/python3.5/site-packages/ipykernel/__main__.py:6: UserWarning: Implicit dimension choice for softmax has been deprecated. Change the call to include dim=X as an argument.\n"
     ]
    }
   ],
   "source": [
    "sample_data, sample_label = data[0]\n",
    "bow_vector = torch.autograd.Variable(make_bow_vector(sample_data, word_to_ix))\n",
    "logprobs = bow(bow_vector)\n",
    "print(logprobs)"
   ]
  },
  {
   "cell_type": "code",
   "execution_count": 14,
   "metadata": {
    "collapsed": false
   },
   "outputs": [
    {
     "name": "stdout",
     "output_type": "stream",
     "text": [
      "Variable containing:\n",
      " 0.5981  0.4019\n",
      "[torch.FloatTensor of size 1x2]\n",
      "\n",
      "prediction: SPANISH\n",
      "actual: SPANISH\n",
      "Variable containing:\n",
      " 0.3473  0.6527\n",
      "[torch.FloatTensor of size 1x2]\n",
      "\n",
      "prediction: ENGLISH\n",
      "actual: ENGLISH\n",
      "--- AFTER TRAINING ---\n",
      "Variable containing:\n",
      " 0.9168  0.0832\n",
      "[torch.FloatTensor of size 1x2]\n",
      "\n",
      "prediction: SPANISH\n",
      "actual: SPANISH\n",
      "Variable containing:\n",
      " 0.0525  0.9475\n",
      "[torch.FloatTensor of size 1x2]\n",
      "\n",
      "prediction: ENGLISH\n",
      "actual: ENGLISH\n"
     ]
    },
    {
     "name": "stderr",
     "output_type": "stream",
     "text": [
      "/Library/Frameworks/Python.framework/Versions/3.5/lib/python3.5/site-packages/ipykernel/__main__.py:6: UserWarning: Implicit dimension choice for softmax has been deprecated. Change the call to include dim=X as an argument.\n"
     ]
    }
   ],
   "source": [
    "label_to_ix = {\"SPANISH\": 0, \"ENGLISH\": 1}\n",
    "ix_to_label = {v: k for k, v in label_to_ix.items()}\n",
    "for instance, label in test_data:\n",
    "    bow_vec = Variable(make_bow_vector(instance, word_to_ix))\n",
    "    logprobs = bow(bow_vec)\n",
    "    print(logprobs)\n",
    "    pred = np.argmax(logprobs.data.numpy())\n",
    "    print('prediction: {}'.format(ix_to_label[pred]))\n",
    "    print('actual: {}'.format(label))\n",
    "\n",
    "    \n",
    "# define a loss function and an optimizer\n",
    "loss_function = nn.NLLLoss()\n",
    "opt = torch.optim.SGD(bow.parameters(), lr = 0.1)\n",
    "\n",
    "# the training loop\n",
    "for epoch in range(100):\n",
    "    for instance, label in data:\n",
    "        # get the training data\n",
    "        bow.zero_grad()\n",
    "        bow_vec = Variable(make_bow_vector(instance, word_to_ix))\n",
    "        label = Variable(make_target(label, label_to_ix))\n",
    "        probs = bow(bow_vec) # forward pass\n",
    "        loss = loss_function(probs, label)\n",
    "        loss.backward()\n",
    "#        print('CURRENT LOSS: {}'.format(loss.data))\n",
    "        opt.step()\n",
    "\n",
    "print('--- AFTER TRAINING ---')\n",
    "for instance, label in test_data:\n",
    "    bow_vec = Variable(make_bow_vector(instance, word_to_ix))\n",
    "    logprobs = bow(bow_vec)\n",
    "    print(logprobs)\n",
    "    pred = np.argmax(logprobs.data.numpy())\n",
    "    print('prediction: {}'.format(ix_to_label[pred]))\n",
    "    print('actual: {}'.format(label))\n",
    "\n"
   ]
  },
  {
   "cell_type": "code",
   "execution_count": null,
   "metadata": {
    "collapsed": true
   },
   "outputs": [],
   "source": []
  }
 ],
 "metadata": {
  "kernelspec": {
   "display_name": "Python 3",
   "language": "python",
   "name": "python3"
  },
  "language_info": {
   "codemirror_mode": {
    "name": "ipython",
    "version": 3
   },
   "file_extension": ".py",
   "mimetype": "text/x-python",
   "name": "python",
   "nbconvert_exporter": "python",
   "pygments_lexer": "ipython3",
   "version": "3.5.0"
  }
 },
 "nbformat": 4,
 "nbformat_minor": 2
}
