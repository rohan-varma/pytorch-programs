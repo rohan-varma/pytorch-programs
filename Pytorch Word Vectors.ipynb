{
 "cells": [
  {
   "cell_type": "code",
   "execution_count": 1,
   "metadata": {
    "collapsed": false,
    "deletable": true,
    "editable": true
   },
   "outputs": [
    {
     "data": {
      "text/plain": [
       "<torch._C.Generator at 0x104e41f10>"
      ]
     },
     "execution_count": 1,
     "metadata": {},
     "output_type": "execute_result"
    }
   ],
   "source": [
    "import torch\n",
    "import torch.autograd as autograd\n",
    "import torch.nn as nn\n",
    "import torch.nn.functional as F\n",
    "import torch.optim as optim\n",
    "\n",
    "torch.manual_seed(1)"
   ]
  },
  {
   "cell_type": "code",
   "execution_count": 2,
   "metadata": {
    "collapsed": false,
    "deletable": true,
    "editable": true
   },
   "outputs": [
    {
     "name": "stdout",
     "output_type": "stream",
     "text": [
      "Variable containing:\n",
      " 0.6614  0.2669  0.0617  0.6213 -0.4519\n",
      "[torch.FloatTensor of size 1x5]\n",
      "\n"
     ]
    }
   ],
   "source": [
    "word_to_ix = {\"hello\": 0, \"world\": 1}\n",
    "embeds = nn.Embedding(2, 5)  # 2 words in vocab, 5 dimensional embeddings\n",
    "lookup_tensor = torch.LongTensor([word_to_ix[\"hello\"]])\n",
    "hello_embed = embeds(autograd.Variable(lookup_tensor))\n",
    "print(hello_embed)"
   ]
  },
  {
   "cell_type": "code",
   "execution_count": 3,
   "metadata": {
    "collapsed": false,
    "deletable": true,
    "editable": true
   },
   "outputs": [
    {
     "name": "stdout",
     "output_type": "stream",
     "text": [
      "202651\n",
      "length reduced to 134575\n"
     ]
    }
   ],
   "source": [
    "CONTEXT_SIZE = 2\n",
    "EMBEDDING_DIM = 100\n",
    "# test_sentence = \"\"\"When forty winters shall besiege thy brow,\n",
    "# And dig deep trenches in thy beauty's field,\n",
    "# Thy youth's proud livery so gazed on now,\n",
    "# Will be a totter'd weed of small worth held:\n",
    "# Then being asked, where all thy beauty lies,\n",
    "# Where all the treasure of thy lusty days;\n",
    "# To say, within thine own deep sunken eyes,\n",
    "# Were an all-eating shame, and thriftless praise.\n",
    "# How much more praise deserv'd thy beauty's use,\n",
    "# If thou couldst answer 'This fair child of mine\n",
    "# Shall sum my count, and make my old excuse,'\n",
    "# Proving his beauty by succession thine!\n",
    "# This were to be new made when thou art old,\n",
    "# And see thy blood warm when thou feel'st it cold.\"\"\".split()\n",
    "# test_sentence.remove('thy')\n",
    "test_sentence = open('input.txt').read().split()\n",
    "from nltk.corpus import stopwords\n",
    "stops = set(stopwords.words('english'))\n",
    "print(len(test_sentence))\n",
    "test_sentence = [word for word in test_sentence if word not in stops]\n",
    "print('length reduced to {}'.format(len(test_sentence)))"
   ]
  },
  {
   "cell_type": "code",
   "execution_count": 4,
   "metadata": {
    "collapsed": false,
    "deletable": true,
    "editable": true
   },
   "outputs": [
    {
     "name": "stdout",
     "output_type": "stream",
     "text": [
      "[(['First', 'Citizen:'], 'Before'), (['Citizen:', 'Before'], 'proceed'), (['Before', 'proceed'], 'further,')]\n"
     ]
    }
   ],
   "source": [
    "trigrams = [([test_sentence[i], test_sentence[i + 1]], test_sentence[i + 2])\n",
    "            for i in range(len(test_sentence) - 2)]\n",
    "# print the first 3, just so you can see what they look like\n",
    "print(trigrams[:3])"
   ]
  },
  {
   "cell_type": "code",
   "execution_count": 5,
   "metadata": {
    "collapsed": true,
    "deletable": true,
    "editable": true
   },
   "outputs": [],
   "source": [
    "vocab = set(test_sentence)\n",
    "word_to_ix = {word: i for i, word in enumerate(vocab)}"
   ]
  },
  {
   "cell_type": "code",
   "execution_count": 6,
   "metadata": {
    "collapsed": false,
    "deletable": true,
    "editable": true
   },
   "outputs": [],
   "source": [
    "class NGramModel(nn.Module):\n",
    "    def __init__(self, vocab_size, embedding_dim, context_size):\n",
    "        \"\"\"Initialize an NGram Model\n",
    "        @param vocab_size: size of the vocabulary\n",
    "        @param embedding dim: size of word embeddings (i.e. length of row vector)\n",
    "        @param context_size: number of context words to condition predicted word on\n",
    "        \"\"\"\n",
    "        super(NGramModel, self).__init__()\n",
    "        self.embedding = nn.Embedding(vocab_size, embedding_dim)\n",
    "        self.linear1 = nn.Linear(context_size * embedding_dim, 128)\n",
    "        self.linear2 = nn.Linear(128, vocab_size)\n",
    "        self.dropout = nn.Dropout(p = 0.5, inplace = False)\n",
    "    \n",
    "    def forward(self, inputs):\n",
    "        embeds = self.embedding(inputs).view((1, -1))\n",
    "        out = F.relu(self.linear1(embeds))\n",
    "       # out = self.dropout(out)\n",
    "        out = self.linear2(out)\n",
    "        probs = F.softmax(out)\n",
    "        return out\n",
    "    \n",
    "        "
   ]
  },
  {
   "cell_type": "code",
   "execution_count": 7,
   "metadata": {
    "collapsed": false,
    "deletable": true,
    "editable": true
   },
   "outputs": [],
   "source": [
    "model = NGramModel(len(vocab), EMBEDDING_DIM, CONTEXT_SIZE)\n",
    "losses = []\n",
    "loss_function = nn.NLLLoss()\n",
    "opt = torch.optim.SGD(model.parameters(), lr = 0.001)\n",
    "ix_to_word = {ix: word for word, ix in word_to_ix.items()}"
   ]
  },
  {
   "cell_type": "code",
   "execution_count": null,
   "metadata": {
    "collapsed": false,
    "deletable": true,
    "editable": true
   },
   "outputs": [
    {
     "name": "stderr",
     "output_type": "stream",
     "text": [
      "/Library/Frameworks/Python.framework/Versions/3.5/lib/python3.5/site-packages/ipykernel/__main__.py:19: UserWarning: Implicit dimension choice for softmax has been deprecated. Change the call to include dim=X as an argument.\n"
     ]
    }
   ],
   "source": [
    "import numpy as np\n",
    "for epoch in range(10):\n",
    "    total_loss = torch.Tensor([0])\n",
    "    for context, target in trigrams:\n",
    "        context_idxs = [word_to_ix[w] for w in context]\n",
    "        context_var = torch.autograd.Variable(torch.LongTensor(context_idxs))\n",
    "        \n",
    "        model.zero_grad()\n",
    "        probs = model(context_var) # looks up the embeddings for context_var and then passes it through the network\n",
    "        #print(context, ix_to_word[np.argmax(probs.data.numpy())])\n",
    "        target_var = torch.autograd.Variable(torch.LongTensor([word_to_ix[target]]))\n",
    "        loss = loss_function(probs, target_var)\n",
    "        loss.backward()\n",
    "        opt.step()\n",
    "        total_loss +=loss.data\n",
    "        losses.append(total_loss)\n",
    "    print('EPOCH {}'.format(epoch))\n",
    "    print(loss.data)\n",
    "\n",
    "import matplotlib.pyplot as plt\n",
    "%matplotlib inline\n",
    "plt.plot(losses)\n",
    "plt.show()"
   ]
  },
  {
   "cell_type": "code",
   "execution_count": null,
   "metadata": {
    "collapsed": false,
    "deletable": true,
    "editable": true
   },
   "outputs": [],
   "source": [
    "# now, try to generate a text\n",
    "def convert_to_idx(words):\n",
    "    return [word_to_ix[w] for w in words]\n",
    "\n",
    "def convert_to_words(idxs):\n",
    "    return [ix_to_word[idx] for idx in idxs]\n",
    "\n",
    "generated_seq = test_sentence[:2]\n",
    "\n",
    "for i in range(15):\n",
    "    context = generated_seq[len(generated_seq) -2:]\n",
    "    probs = model(torch.autograd.Variable(torch.LongTensor(convert_to_idx(context))))\n",
    "    word = convert_to_words([np.argmax(probs.data.numpy())])\n",
    "    generated_seq = generated_seq + word\n",
    "print(generated_seq)\n"
   ]
  },
  {
   "cell_type": "code",
   "execution_count": null,
   "metadata": {
    "collapsed": true,
    "deletable": true,
    "editable": true
   },
   "outputs": [],
   "source": []
  }
 ],
 "metadata": {
  "kernelspec": {
   "display_name": "Python 3",
   "language": "python",
   "name": "python3"
  },
  "language_info": {
   "codemirror_mode": {
    "name": "ipython",
    "version": 3
   },
   "file_extension": ".py",
   "mimetype": "text/x-python",
   "name": "python",
   "nbconvert_exporter": "python",
   "pygments_lexer": "ipython3",
   "version": "3.5.0"
  }
 },
 "nbformat": 4,
 "nbformat_minor": 2
}
