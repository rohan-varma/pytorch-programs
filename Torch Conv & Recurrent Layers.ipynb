{
 "cells": [
  {
   "cell_type": "code",
   "execution_count": 6,
   "metadata": {
    "collapsed": false,
    "deletable": true,
    "editable": true
   },
   "outputs": [],
   "source": [
    "import torch\n",
    "from torch import autograd\n",
    "import torch.nn.functional as F"
   ]
  },
  {
   "cell_type": "code",
   "execution_count": 7,
   "metadata": {
    "collapsed": false
   },
   "outputs": [
    {
     "data": {
      "text/plain": [
       "torch.Size([20, 16, 50, 100])"
      ]
     },
     "execution_count": 7,
     "metadata": {},
     "output_type": "execute_result"
    }
   ],
   "source": [
    "inputs = autograd.Variable(torch.randn(20, 16, 50, 100))\n",
    "inputs.shape\n"
   ]
  },
  {
   "cell_type": "code",
   "execution_count": 11,
   "metadata": {
    "collapsed": false
   },
   "outputs": [
    {
     "data": {
      "text/plain": [
       "torch.Size([20, 32, 46, 96])"
      ]
     },
     "execution_count": 11,
     "metadata": {},
     "output_type": "execute_result"
    }
   ],
   "source": [
    "conv1 = torch.nn.Conv2d(16, 32, 5)\n",
    "x = F.relu(conv1(inputs))\n",
    "x.shape\n",
    "\n"
   ]
  },
  {
   "cell_type": "code",
   "execution_count": 16,
   "metadata": {
    "collapsed": false
   },
   "outputs": [
    {
     "name": "stdout",
     "output_type": "stream",
     "text": [
      "torch.Size([20, 32, 46, 96])\n",
      "torch.Size([20, 16, 50, 100])\n"
     ]
    }
   ],
   "source": [
    "conv2d_transpose = torch.nn.ConvTranspose2d(32, 16, 5) # in channels, out channels, kernel size\n",
    "x_ = F.relu(conv2d_transpose(x))\n",
    "print(x.shape)\n",
    "print(x_.shape)"
   ]
  },
  {
   "cell_type": "code",
   "execution_count": 25,
   "metadata": {
    "collapsed": false
   },
   "outputs": [
    {
     "name": "stdout",
     "output_type": "stream",
     "text": [
      "torch.Size([20, 16, 60, 60])\n",
      "torch.Size([20, 16, 56, 56])\n"
     ]
    }
   ],
   "source": [
    "inputs = autograd.Variable(torch.randn(20, 3, 64, 64))\n",
    "conv1 = torch.nn.Conv2d(3, 16, 5) # 3 channels, 16 output channels, 5 x 5 kernels\n",
    "max_pool_1 = torch.nn.MaxPool2d(5, stride = 1) # max pool over 3 x 3 regions with stride = 1\n",
    "x = F.relu(conv1(inputs))\n",
    "print(x.shape)\n",
    "x = F.relu(max_pool_1(conv1(inputs)))\n",
    "print(x.shape)"
   ]
  },
  {
   "cell_type": "code",
   "execution_count": 31,
   "metadata": {
    "collapsed": false
   },
   "outputs": [
    {
     "name": "stdout",
     "output_type": "stream",
     "text": [
      "\n",
      "-0.2243\n",
      " 0.3247\n",
      " 0.2583\n",
      " 0.1532\n",
      " 0.0940\n",
      " 0.0259\n",
      " 0.6886\n",
      " 1.8384\n",
      "-1.5973\n",
      " 1.0355\n",
      "[torch.FloatTensor of size 10]\n",
      "\n",
      "\n",
      "-0.2206\n",
      " 0.0287\n",
      "-0.0050\n",
      "-0.0549\n",
      " 0.1447\n",
      "-0.0780\n",
      " 0.3940\n",
      " 1.0309\n",
      "-1.1501\n",
      " 0.5406\n",
      "[torch.FloatTensor of size 10]\n",
      "\n"
     ]
    }
   ],
   "source": [
    "inputs = autograd.Variable(torch.randn(10, 50))\n",
    "batch_norm_1d = torch.nn.BatchNorm1d(50)\n",
    "x = batch_norm_1d(inputs)\n",
    "print(inputs.data[0][:10])\n",
    "print(x.data[0][:10])"
   ]
  },
  {
   "cell_type": "code",
   "execution_count": 41,
   "metadata": {
    "collapsed": false
   },
   "outputs": [],
   "source": [
    "inputs = autograd.Variable(torch.randn(5, 3, 10)) # sequence length of 5, batches of 3, input size = 10\n",
    "rnn = torch.nn.RNN(10, 20, 2) # 10 features in input, 20 features in hidden layer, 2 layer RNN\n",
    "h_0 = autograd.Variable(torch.randn(2, 3, 20)) # 2 layers with 1 direction, batch size of 3, 20 features in hidden layer\n",
    "x = rnn(inputs, h_0)"
   ]
  },
  {
   "cell_type": "raw",
   "metadata": {},
   "source": []
  }
 ],
 "metadata": {
  "kernelspec": {
   "display_name": "Python 3",
   "language": "python",
   "name": "python3"
  },
  "language_info": {
   "codemirror_mode": {
    "name": "ipython",
    "version": 3
   },
   "file_extension": ".py",
   "mimetype": "text/x-python",
   "name": "python",
   "nbconvert_exporter": "python",
   "pygments_lexer": "ipython3",
   "version": "3.5.0"
  }
 },
 "nbformat": 4,
 "nbformat_minor": 1
}
